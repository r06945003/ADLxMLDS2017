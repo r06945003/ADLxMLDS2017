{
 "cells": [
  {
   "cell_type": "code",
   "execution_count": 12,
   "metadata": {},
   "outputs": [],
   "source": [
    "import numpy as np"
   ]
  },
  {
   "cell_type": "code",
   "execution_count": 13,
   "metadata": {},
   "outputs": [
    {
     "name": "stdout",
     "output_type": "stream",
     "text": [
      "['touhou', 'chen', 'moneti daifuku ', 'animal ears', 'catgirl', 'dress', 'hat', 'multiple tails', 'tail', '']\n"
     ]
    }
   ],
   "source": [
    "lines = open('../../../GAN/tags_clean.csv').read().splitlines()\n",
    "tagsNum = len(lines)\n",
    "tags = [None]*tagsNum\n",
    "for i in range(tagsNum):\n",
    "    temp = lines[i].split(\",\")\n",
    "    temp2 = temp[1].split(\"\\t\")\n",
    "    temp2 = [x.split(':')[0] for x in temp2]\n",
    "    tags[i] = temp2\n",
    "print(tags[0])"
   ]
  },
  {
   "cell_type": "code",
   "execution_count": 14,
   "metadata": {},
   "outputs": [
    {
     "name": "stdout",
     "output_type": "stream",
     "text": [
      "12\n",
      "11\n"
     ]
    }
   ],
   "source": [
    "hair = {'orange':0, 'white':1, 'aqua':2, 'gray':3, 'green':4, 'red':5, 'purple':6, 'pink':7, 'blue':8, 'black':9, 'brown':10, 'blonde':11}\n",
    "eyes = {'gray':12, 'black':13, 'orange':14, 'pink':15, 'yellow':16, 'aqua':17, 'purple':18, 'green':19, 'brown':20, 'red':21, 'blue':22}\n",
    "data = np.zeros([len(lines), len(hair)+len(eyes)])\n",
    "print(len(hair))\n",
    "print(len(eyes))"
   ]
  },
  {
   "cell_type": "code",
   "execution_count": 15,
   "metadata": {},
   "outputs": [
    {
     "name": "stdout",
     "output_type": "stream",
     "text": [
      "20208\n"
     ]
    }
   ],
   "source": [
    "ite = 0\n",
    "for i in range(tagsNum):\n",
    "    for j in range(len(tags[i])):\n",
    "        if tags[i][j].find('hair') != -1:\n",
    "            for k in tags[i][j].split(' '):\n",
    "                if k in hair:\n",
    "                    ite += 1\n",
    "                    data[i][hair[k]]=1\n",
    "        if tags[i][j].find('eyes') != -1:\n",
    "            for k in tags[i][j].split(' '):\n",
    "                if k in eyes:\n",
    "                    data[i][eyes[k]]=1\n",
    "print(ite)"
   ]
  },
  {
   "cell_type": "code",
   "execution_count": null,
   "metadata": {},
   "outputs": [],
   "source": [
    "np.save('condition.npy')"
   ]
  }
 ],
 "metadata": {
  "kernelspec": {
   "display_name": "Python 2",
   "language": "python",
   "name": "python2"
  },
  "language_info": {
   "codemirror_mode": {
    "name": "ipython",
    "version": 2
   },
   "file_extension": ".py",
   "mimetype": "text/x-python",
   "name": "python",
   "nbconvert_exporter": "python",
   "pygments_lexer": "ipython2",
   "version": "2.7.12"
  }
 },
 "nbformat": 4,
 "nbformat_minor": 2
}
