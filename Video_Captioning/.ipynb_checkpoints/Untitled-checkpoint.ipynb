{
 "cells": [
  {
   "cell_type": "code",
   "execution_count": 30,
   "metadata": {},
   "outputs": [],
   "source": [
    "import os\n",
    "import numpy as np\n",
    "import json\n",
    "import string\n",
    "from random import randint\n",
    "import math"
   ]
  },
  {
   "cell_type": "code",
   "execution_count": 31,
   "metadata": {},
   "outputs": [],
   "source": [
    "path = \"../../data/MLDS_hw2_data/\"\n",
    "traindir = \"training_data/feat/\""
   ]
  },
  {
   "cell_type": "code",
   "execution_count": 32,
   "metadata": {},
   "outputs": [],
   "source": [
    "trainjsonfile = open(path+\"training_label.json\",\"r\")\n",
    "\n",
    "trainjson = json.load(trainjsonfile)"
   ]
  },
  {
   "cell_type": "code",
   "execution_count": 33,
   "metadata": {},
   "outputs": [],
   "source": [
    "words = []\n",
    "for x in trainjson:\n",
    "    for y in x['caption']:\n",
    "        y = ''.join(c for c in y if c not in string.punctuation)\n",
    "        ss = str.split(y,\" \")\n",
    "        for z in ss:\n",
    "            words.append(z.lower())\n"
   ]
  },
  {
   "cell_type": "code",
   "execution_count": 35,
   "metadata": {},
   "outputs": [
    {
     "name": "stdout",
     "output_type": "stream",
     "text": [
      "6060\n",
      "6059\n"
     ]
    }
   ],
   "source": [
    "wordsFreq = {}\n",
    "for x in words:\n",
    "    if x not in wordsFreq:\n",
    "        wordsFreq[x] = 1\n",
    "    else:\n",
    "        wordsFreq[x] = wordsFreq[x] + 1\n",
    "            \n",
    "encodeWords = {}\n",
    "counter = 3\n",
    "freq = 0\n",
    "        \n",
    "for key,value in wordsFreq.items():\n",
    "    if value>freq:\n",
    "        encodeWords[key] = counter\n",
    "        counter = counter + 1\n",
    "encodeWords[\"<PAD>\"] = 0      \n",
    "encodeWords[\"<BOS>\"] = 1\n",
    "encodeWords[\"<EOS>\"] = 2\n",
    "encodeWords[\"something\"] = 3\n",
    "print(len(encodeWords))\n",
    "\n",
    "decodeWords = {}\n",
    "for key, value in encodeWords.items():\n",
    "    decodeWords[value] = key\n",
    "print(len(decodeWords))"
   ]
  },
  {
   "cell_type": "code",
   "execution_count": 36,
   "metadata": {},
   "outputs": [],
   "source": [
    "f = open(\"raw_text.txt\",\"w\")\n",
    "for x in trainjson:\n",
    "    \n",
    "    name = x[\"id\"]\n",
    "    for y in x[\"caption\"]:\n",
    "\n",
    "        y = ''.join(c for c in y if c not in string.punctuation)\n",
    "\n",
    "        temp = []\n",
    "        for x in str.split(y,\" \"):\n",
    "            w = x.lower()\n",
    "            if wordsFreq[w]>freq:\n",
    "                temp.append(encodeWords[w])\n",
    "            else:\n",
    "                temp.append(encodeWords[\"something\"])\n",
    "\n",
    "        temp2 = \"<BOS>\"\n",
    "        for x in temp:\n",
    "            temp2 = temp2+decodeWords[x]+\" \"\n",
    "        temp2 += \"<EOS>\"\n",
    "        f.write(temp2+\"\\n\")"
   ]
  },
  {
   "cell_type": "code",
   "execution_count": 37,
   "metadata": {},
   "outputs": [],
   "source": [
    "import fasttext"
   ]
  },
  {
   "cell_type": "code",
   "execution_count": null,
   "metadata": {},
   "outputs": [],
   "source": [
    "model = fasttext.skipgram('raw_text.txt', 'model', dim=256)"
   ]
  },
  {
   "cell_type": "code",
   "execution_count": null,
   "metadata": {},
   "outputs": [],
   "source": [
    "print(len(model.words))"
   ]
  },
  {
   "cell_type": "code",
   "execution_count": 10,
   "metadata": {},
   "outputs": [],
   "source": [
    "bbb = np.zeros([2130,256],'float32')"
   ]
  },
  {
   "cell_type": "code",
   "execution_count": 28,
   "metadata": {},
   "outputs": [
    {
     "name": "stdout",
     "output_type": "stream",
     "text": [
      "2130\n",
      "2130\n"
     ]
    }
   ],
   "source": [
    "encodeW = {}\n",
    "decodeW = {}\n",
    "encodeW[\"<PAD>\"] = 0      \n",
    "encodeW[\"<BOS>\"] = 1\n",
    "encodeW[\"<EOS>\"] = 2\n",
    "decodeW[0] = \"<PAD>\"      \n",
    "decodeW[1] = \"<BOS>\"\n",
    "decodeW[2] = \"<EOS>\"\n",
    "counter = 3\n",
    "for x in model.words:\n",
    "    encodeW[x] = counter\n",
    "    decodeW[counter] = x\n",
    "    counter = counter + 1\n",
    "print(len(decodeW))\n",
    "print(len(encodeW))"
   ]
  },
  {
   "cell_type": "code",
   "execution_count": 17,
   "metadata": {},
   "outputs": [],
   "source": [
    "np.save('encodeW.npy',encodeW)\n",
    "np.save('decodeW.npy',decodeW)"
   ]
  },
  {
   "cell_type": "code",
   "execution_count": 26,
   "metadata": {},
   "outputs": [],
   "source": [
    "bbb[0] = [0]*256\n",
    "bbb[1] = [-1]*256\n",
    "bbb[2] = [1]*256\n",
    "for i in range(3,len(encodeW)):\n",
    "    x = decodeW[i]\n",
    "    v= np.array(model[x])\n",
    "    bbb[encodeW[x]] = v"
   ]
  },
  {
   "cell_type": "code",
   "execution_count": 29,
   "metadata": {},
   "outputs": [],
   "source": [
    "np.save('w2v.npy',bbb)"
   ]
  },
  {
   "cell_type": "code",
   "execution_count": 27,
   "metadata": {},
   "outputs": [
    {
     "name": "stdout",
     "output_type": "stream",
     "text": [
      "(2132, 256)\n"
     ]
    }
   ],
   "source": [
    "\n",
    "print(bbb.shape)"
   ]
  },
  {
   "cell_type": "code",
   "execution_count": null,
   "metadata": {},
   "outputs": [],
   "source": []
  }
 ],
 "metadata": {
  "kernelspec": {
   "display_name": "Python 3",
   "language": "python",
   "name": "python3"
  },
  "language_info": {
   "codemirror_mode": {
    "name": "ipython",
    "version": 3
   },
   "file_extension": ".py",
   "mimetype": "text/x-python",
   "name": "python",
   "nbconvert_exporter": "python",
   "pygments_lexer": "ipython3",
   "version": "3.5.2"
  }
 },
 "nbformat": 4,
 "nbformat_minor": 2
}
